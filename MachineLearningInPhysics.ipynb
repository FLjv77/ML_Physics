{
  "nbformat": 4,
  "nbformat_minor": 0,
  "metadata": {
    "colab": {
      "provenance": [],
      "authorship_tag": "ABX9TyOZHdKlg2QYyWiSK66nBCTL",
      "include_colab_link": true
    },
    "kernelspec": {
      "name": "python3",
      "display_name": "Python 3"
    },
    "language_info": {
      "name": "python"
    }
  },
  "cells": [
    {
      "cell_type": "markdown",
      "metadata": {
        "id": "view-in-github",
        "colab_type": "text"
      },
      "source": [
        "<a href=\"https://colab.research.google.com/github/FLjv77/ML_Physics/blob/main/MachineLearningInPhysics.ipynb\" target=\"_parent\"><img src=\"https://colab.research.google.com/assets/colab-badge.svg\" alt=\"Open In Colab\"/></a>"
      ]
    },
    {
      "cell_type": "markdown",
      "source": [
        "# An Algorithm for Clustering\n",
        "\n",
        "Input Params:\n",
        "\n",
        "\n",
        "*   Dataset\n",
        "*   Metrics\n",
        "*   Score function (seems be fixed)\n",
        "*   Number of clusters range\n",
        "\n",
        "Output:\n",
        "\n",
        "\n",
        "*   Best clusters and it's score\n",
        "\n",
        "\n"
      ],
      "metadata": {
        "id": "syuV24I7Rglu"
      }
    },
    {
      "cell_type": "code",
      "execution_count": null,
      "metadata": {
        "id": "HhyxWno3RAsK"
      },
      "outputs": [],
      "source": [
        "# for each possible number of cluster as c_n\n",
        "# select c_n point randomly\n",
        "# find nearest point according metric in each cluster\n",
        "# update cluster center by metric avarage of the nodes in same cluster\n",
        "# do this untill all nodes covered\n",
        "# calculate score of clustering\n",
        "#\n",
        "#\n",
        "# FOR EXAMPLE\n",
        "# metric         => aghlidosian distance, relative entropy of coherence, tangle\n",
        "# score function => distance of cluster from each other / density data in each cluster\n",
        "#\n",
        "#\n",
        "#\n",
        "#\n",
        "#\n",
        "#\n"
      ]
    }
  ]
}