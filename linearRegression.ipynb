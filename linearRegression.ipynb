{
  "nbformat": 4,
  "nbformat_minor": 0,
  "metadata": {
    "colab": {
      "provenance": [],
      "authorship_tag": "ABX9TyOOIgCN0pP2Nm4S9F1QeLeF",
      "include_colab_link": true
    },
    "kernelspec": {
      "name": "python3",
      "display_name": "Python 3"
    },
    "language_info": {
      "name": "python"
    }
  },
  "cells": [
    {
      "cell_type": "markdown",
      "metadata": {
        "id": "view-in-github",
        "colab_type": "text"
      },
      "source": [
        "<a href=\"https://colab.research.google.com/github/FLjv77/ML_Physics/blob/main/linearRegression.ipynb\" target=\"_parent\"><img src=\"https://colab.research.google.com/assets/colab-badge.svg\" alt=\"Open In Colab\"/></a>"
      ]
    },
    {
      "cell_type": "markdown",
      "source": [
        "# Imports"
      ],
      "metadata": {
        "id": "d91WNeSHltZ9"
      }
    },
    {
      "cell_type": "code",
      "execution_count": 42,
      "metadata": {
        "id": "IKmSrXRJeCfc"
      },
      "outputs": [],
      "source": [
        "from google.colab import drive\n",
        "import pandas as pd\n",
        "import numpy as np\n",
        "from sklearn.model_selection import train_test_split\n",
        "from sklearn.preprocessing import PolynomialFeatures\n",
        "from sklearn.linear_model import LinearRegression"
      ]
    },
    {
      "cell_type": "markdown",
      "source": [
        "# Data Preperation"
      ],
      "metadata": {
        "id": "cFSkPl8Xe4yE"
      }
    },
    {
      "cell_type": "markdown",
      "source": [
        "*Import data*"
      ],
      "metadata": {
        "id": "ya5HiyfPq-NN"
      }
    },
    {
      "cell_type": "code",
      "source": [
        "drive.mount('/content/drive')\n",
        "data = pd.read_pickle('drive/MyDrive/Colab Notebooks/MLPhysics/Data/data.gz', compression='gzip')\n",
        "data.head()"
      ],
      "metadata": {
        "id": "-2VrX5Oqewl_",
        "colab": {
          "base_uri": "https://localhost:8080/",
          "height": 261
        },
        "outputId": "8b91c5a2-94c7-420d-bfd2-e4cb1b7a3970"
      },
      "execution_count": 23,
      "outputs": [
        {
          "output_type": "stream",
          "name": "stdout",
          "text": [
            "Drive already mounted at /content/drive; to attempt to forcibly remount, call drive.mount(\"/content/drive\", force_remount=True).\n"
          ]
        },
        {
          "output_type": "execute_result",
          "data": {
            "text/plain": [
              "   sigma_x sigma_x  sigma_x sigma_y  sigma_x sigma_z  sigma_x I  \\\n",
              "0         0.063394        -0.030475         0.054712  -0.207182   \n",
              "1        -0.140623         0.156939        -0.097862   0.257280   \n",
              "2         0.442904        -0.025508         0.252517  -0.073066   \n",
              "3         0.048773        -0.057124         0.175588  -0.294659   \n",
              "4         0.332981        -0.228244        -0.309372  -0.270460   \n",
              "\n",
              "   sigma_y sigma_x  sigma_y sigma_y  sigma_y sigma_z  sigma_y I  \\\n",
              "0        -0.100642        -0.119281        -0.153700  -0.023325   \n",
              "1        -0.117338         0.358434        -0.060805  -0.193301   \n",
              "2         0.145303        -0.178814        -0.361514   0.193291   \n",
              "3         0.064488        -0.270791         0.149194  -0.020468   \n",
              "4        -0.155656        -0.288667        -0.392645   0.338129   \n",
              "\n",
              "   sigma_z sigma_x  sigma_z sigma_y  sigma_z sigma_z  sigma_z I  I sigma_x  \\\n",
              "0         0.153603        -0.300538         0.093314  -0.630818  -0.216680   \n",
              "1         0.137166        -0.247568         0.386097   0.055322   0.120454   \n",
              "2         0.241775        -0.416794         0.362798  -0.320768  -0.151865   \n",
              "3        -0.258235        -0.292408         0.492207  -0.848040   0.258235   \n",
              "4        -0.030599        -0.103525         0.117726   0.090513  -0.189008   \n",
              "\n",
              "   I sigma_y  I sigma_z  determinant  is_entangled  \n",
              "0   0.398048  -0.138596     0.000616             0  \n",
              "1   0.082775  -0.244874    -0.000829             1  \n",
              "2   0.054982  -0.160275    -0.005184             1  \n",
              "3   0.292408  -0.457389    -0.000223             1  \n",
              "4   0.057949  -0.197000    -0.001448             1  "
            ],
            "text/html": [
              "\n",
              "  <div id=\"df-39dd568e-e810-4af2-8918-64b321a6282a\" class=\"colab-df-container\">\n",
              "    <div>\n",
              "<style scoped>\n",
              "    .dataframe tbody tr th:only-of-type {\n",
              "        vertical-align: middle;\n",
              "    }\n",
              "\n",
              "    .dataframe tbody tr th {\n",
              "        vertical-align: top;\n",
              "    }\n",
              "\n",
              "    .dataframe thead th {\n",
              "        text-align: right;\n",
              "    }\n",
              "</style>\n",
              "<table border=\"1\" class=\"dataframe\">\n",
              "  <thead>\n",
              "    <tr style=\"text-align: right;\">\n",
              "      <th></th>\n",
              "      <th>sigma_x sigma_x</th>\n",
              "      <th>sigma_x sigma_y</th>\n",
              "      <th>sigma_x sigma_z</th>\n",
              "      <th>sigma_x I</th>\n",
              "      <th>sigma_y sigma_x</th>\n",
              "      <th>sigma_y sigma_y</th>\n",
              "      <th>sigma_y sigma_z</th>\n",
              "      <th>sigma_y I</th>\n",
              "      <th>sigma_z sigma_x</th>\n",
              "      <th>sigma_z sigma_y</th>\n",
              "      <th>sigma_z sigma_z</th>\n",
              "      <th>sigma_z I</th>\n",
              "      <th>I sigma_x</th>\n",
              "      <th>I sigma_y</th>\n",
              "      <th>I sigma_z</th>\n",
              "      <th>determinant</th>\n",
              "      <th>is_entangled</th>\n",
              "    </tr>\n",
              "  </thead>\n",
              "  <tbody>\n",
              "    <tr>\n",
              "      <th>0</th>\n",
              "      <td>0.063394</td>\n",
              "      <td>-0.030475</td>\n",
              "      <td>0.054712</td>\n",
              "      <td>-0.207182</td>\n",
              "      <td>-0.100642</td>\n",
              "      <td>-0.119281</td>\n",
              "      <td>-0.153700</td>\n",
              "      <td>-0.023325</td>\n",
              "      <td>0.153603</td>\n",
              "      <td>-0.300538</td>\n",
              "      <td>0.093314</td>\n",
              "      <td>-0.630818</td>\n",
              "      <td>-0.216680</td>\n",
              "      <td>0.398048</td>\n",
              "      <td>-0.138596</td>\n",
              "      <td>0.000616</td>\n",
              "      <td>0</td>\n",
              "    </tr>\n",
              "    <tr>\n",
              "      <th>1</th>\n",
              "      <td>-0.140623</td>\n",
              "      <td>0.156939</td>\n",
              "      <td>-0.097862</td>\n",
              "      <td>0.257280</td>\n",
              "      <td>-0.117338</td>\n",
              "      <td>0.358434</td>\n",
              "      <td>-0.060805</td>\n",
              "      <td>-0.193301</td>\n",
              "      <td>0.137166</td>\n",
              "      <td>-0.247568</td>\n",
              "      <td>0.386097</td>\n",
              "      <td>0.055322</td>\n",
              "      <td>0.120454</td>\n",
              "      <td>0.082775</td>\n",
              "      <td>-0.244874</td>\n",
              "      <td>-0.000829</td>\n",
              "      <td>1</td>\n",
              "    </tr>\n",
              "    <tr>\n",
              "      <th>2</th>\n",
              "      <td>0.442904</td>\n",
              "      <td>-0.025508</td>\n",
              "      <td>0.252517</td>\n",
              "      <td>-0.073066</td>\n",
              "      <td>0.145303</td>\n",
              "      <td>-0.178814</td>\n",
              "      <td>-0.361514</td>\n",
              "      <td>0.193291</td>\n",
              "      <td>0.241775</td>\n",
              "      <td>-0.416794</td>\n",
              "      <td>0.362798</td>\n",
              "      <td>-0.320768</td>\n",
              "      <td>-0.151865</td>\n",
              "      <td>0.054982</td>\n",
              "      <td>-0.160275</td>\n",
              "      <td>-0.005184</td>\n",
              "      <td>1</td>\n",
              "    </tr>\n",
              "    <tr>\n",
              "      <th>3</th>\n",
              "      <td>0.048773</td>\n",
              "      <td>-0.057124</td>\n",
              "      <td>0.175588</td>\n",
              "      <td>-0.294659</td>\n",
              "      <td>0.064488</td>\n",
              "      <td>-0.270791</td>\n",
              "      <td>0.149194</td>\n",
              "      <td>-0.020468</td>\n",
              "      <td>-0.258235</td>\n",
              "      <td>-0.292408</td>\n",
              "      <td>0.492207</td>\n",
              "      <td>-0.848040</td>\n",
              "      <td>0.258235</td>\n",
              "      <td>0.292408</td>\n",
              "      <td>-0.457389</td>\n",
              "      <td>-0.000223</td>\n",
              "      <td>1</td>\n",
              "    </tr>\n",
              "    <tr>\n",
              "      <th>4</th>\n",
              "      <td>0.332981</td>\n",
              "      <td>-0.228244</td>\n",
              "      <td>-0.309372</td>\n",
              "      <td>-0.270460</td>\n",
              "      <td>-0.155656</td>\n",
              "      <td>-0.288667</td>\n",
              "      <td>-0.392645</td>\n",
              "      <td>0.338129</td>\n",
              "      <td>-0.030599</td>\n",
              "      <td>-0.103525</td>\n",
              "      <td>0.117726</td>\n",
              "      <td>0.090513</td>\n",
              "      <td>-0.189008</td>\n",
              "      <td>0.057949</td>\n",
              "      <td>-0.197000</td>\n",
              "      <td>-0.001448</td>\n",
              "      <td>1</td>\n",
              "    </tr>\n",
              "  </tbody>\n",
              "</table>\n",
              "</div>\n",
              "    <div class=\"colab-df-buttons\">\n",
              "\n",
              "  <div class=\"colab-df-container\">\n",
              "    <button class=\"colab-df-convert\" onclick=\"convertToInteractive('df-39dd568e-e810-4af2-8918-64b321a6282a')\"\n",
              "            title=\"Convert this dataframe to an interactive table.\"\n",
              "            style=\"display:none;\">\n",
              "\n",
              "  <svg xmlns=\"http://www.w3.org/2000/svg\" height=\"24px\" viewBox=\"0 -960 960 960\">\n",
              "    <path d=\"M120-120v-720h720v720H120Zm60-500h600v-160H180v160Zm220 220h160v-160H400v160Zm0 220h160v-160H400v160ZM180-400h160v-160H180v160Zm440 0h160v-160H620v160ZM180-180h160v-160H180v160Zm440 0h160v-160H620v160Z\"/>\n",
              "  </svg>\n",
              "    </button>\n",
              "\n",
              "  <style>\n",
              "    .colab-df-container {\n",
              "      display:flex;\n",
              "      gap: 12px;\n",
              "    }\n",
              "\n",
              "    .colab-df-convert {\n",
              "      background-color: #E8F0FE;\n",
              "      border: none;\n",
              "      border-radius: 50%;\n",
              "      cursor: pointer;\n",
              "      display: none;\n",
              "      fill: #1967D2;\n",
              "      height: 32px;\n",
              "      padding: 0 0 0 0;\n",
              "      width: 32px;\n",
              "    }\n",
              "\n",
              "    .colab-df-convert:hover {\n",
              "      background-color: #E2EBFA;\n",
              "      box-shadow: 0px 1px 2px rgba(60, 64, 67, 0.3), 0px 1px 3px 1px rgba(60, 64, 67, 0.15);\n",
              "      fill: #174EA6;\n",
              "    }\n",
              "\n",
              "    .colab-df-buttons div {\n",
              "      margin-bottom: 4px;\n",
              "    }\n",
              "\n",
              "    [theme=dark] .colab-df-convert {\n",
              "      background-color: #3B4455;\n",
              "      fill: #D2E3FC;\n",
              "    }\n",
              "\n",
              "    [theme=dark] .colab-df-convert:hover {\n",
              "      background-color: #434B5C;\n",
              "      box-shadow: 0px 1px 3px 1px rgba(0, 0, 0, 0.15);\n",
              "      filter: drop-shadow(0px 1px 2px rgba(0, 0, 0, 0.3));\n",
              "      fill: #FFFFFF;\n",
              "    }\n",
              "  </style>\n",
              "\n",
              "    <script>\n",
              "      const buttonEl =\n",
              "        document.querySelector('#df-39dd568e-e810-4af2-8918-64b321a6282a button.colab-df-convert');\n",
              "      buttonEl.style.display =\n",
              "        google.colab.kernel.accessAllowed ? 'block' : 'none';\n",
              "\n",
              "      async function convertToInteractive(key) {\n",
              "        const element = document.querySelector('#df-39dd568e-e810-4af2-8918-64b321a6282a');\n",
              "        const dataTable =\n",
              "          await google.colab.kernel.invokeFunction('convertToInteractive',\n",
              "                                                    [key], {});\n",
              "        if (!dataTable) return;\n",
              "\n",
              "        const docLinkHtml = 'Like what you see? Visit the ' +\n",
              "          '<a target=\"_blank\" href=https://colab.research.google.com/notebooks/data_table.ipynb>data table notebook</a>'\n",
              "          + ' to learn more about interactive tables.';\n",
              "        element.innerHTML = '';\n",
              "        dataTable['output_type'] = 'display_data';\n",
              "        await google.colab.output.renderOutput(dataTable, element);\n",
              "        const docLink = document.createElement('div');\n",
              "        docLink.innerHTML = docLinkHtml;\n",
              "        element.appendChild(docLink);\n",
              "      }\n",
              "    </script>\n",
              "  </div>\n",
              "\n",
              "\n",
              "<div id=\"df-fe6b4bda-0772-4ff4-b756-fb1617428dd1\">\n",
              "  <button class=\"colab-df-quickchart\" onclick=\"quickchart('df-fe6b4bda-0772-4ff4-b756-fb1617428dd1')\"\n",
              "            title=\"Suggest charts\"\n",
              "            style=\"display:none;\">\n",
              "\n",
              "<svg xmlns=\"http://www.w3.org/2000/svg\" height=\"24px\"viewBox=\"0 0 24 24\"\n",
              "     width=\"24px\">\n",
              "    <g>\n",
              "        <path d=\"M19 3H5c-1.1 0-2 .9-2 2v14c0 1.1.9 2 2 2h14c1.1 0 2-.9 2-2V5c0-1.1-.9-2-2-2zM9 17H7v-7h2v7zm4 0h-2V7h2v10zm4 0h-2v-4h2v4z\"/>\n",
              "    </g>\n",
              "</svg>\n",
              "  </button>\n",
              "\n",
              "<style>\n",
              "  .colab-df-quickchart {\n",
              "      --bg-color: #E8F0FE;\n",
              "      --fill-color: #1967D2;\n",
              "      --hover-bg-color: #E2EBFA;\n",
              "      --hover-fill-color: #174EA6;\n",
              "      --disabled-fill-color: #AAA;\n",
              "      --disabled-bg-color: #DDD;\n",
              "  }\n",
              "\n",
              "  [theme=dark] .colab-df-quickchart {\n",
              "      --bg-color: #3B4455;\n",
              "      --fill-color: #D2E3FC;\n",
              "      --hover-bg-color: #434B5C;\n",
              "      --hover-fill-color: #FFFFFF;\n",
              "      --disabled-bg-color: #3B4455;\n",
              "      --disabled-fill-color: #666;\n",
              "  }\n",
              "\n",
              "  .colab-df-quickchart {\n",
              "    background-color: var(--bg-color);\n",
              "    border: none;\n",
              "    border-radius: 50%;\n",
              "    cursor: pointer;\n",
              "    display: none;\n",
              "    fill: var(--fill-color);\n",
              "    height: 32px;\n",
              "    padding: 0;\n",
              "    width: 32px;\n",
              "  }\n",
              "\n",
              "  .colab-df-quickchart:hover {\n",
              "    background-color: var(--hover-bg-color);\n",
              "    box-shadow: 0 1px 2px rgba(60, 64, 67, 0.3), 0 1px 3px 1px rgba(60, 64, 67, 0.15);\n",
              "    fill: var(--button-hover-fill-color);\n",
              "  }\n",
              "\n",
              "  .colab-df-quickchart-complete:disabled,\n",
              "  .colab-df-quickchart-complete:disabled:hover {\n",
              "    background-color: var(--disabled-bg-color);\n",
              "    fill: var(--disabled-fill-color);\n",
              "    box-shadow: none;\n",
              "  }\n",
              "\n",
              "  .colab-df-spinner {\n",
              "    border: 2px solid var(--fill-color);\n",
              "    border-color: transparent;\n",
              "    border-bottom-color: var(--fill-color);\n",
              "    animation:\n",
              "      spin 1s steps(1) infinite;\n",
              "  }\n",
              "\n",
              "  @keyframes spin {\n",
              "    0% {\n",
              "      border-color: transparent;\n",
              "      border-bottom-color: var(--fill-color);\n",
              "      border-left-color: var(--fill-color);\n",
              "    }\n",
              "    20% {\n",
              "      border-color: transparent;\n",
              "      border-left-color: var(--fill-color);\n",
              "      border-top-color: var(--fill-color);\n",
              "    }\n",
              "    30% {\n",
              "      border-color: transparent;\n",
              "      border-left-color: var(--fill-color);\n",
              "      border-top-color: var(--fill-color);\n",
              "      border-right-color: var(--fill-color);\n",
              "    }\n",
              "    40% {\n",
              "      border-color: transparent;\n",
              "      border-right-color: var(--fill-color);\n",
              "      border-top-color: var(--fill-color);\n",
              "    }\n",
              "    60% {\n",
              "      border-color: transparent;\n",
              "      border-right-color: var(--fill-color);\n",
              "    }\n",
              "    80% {\n",
              "      border-color: transparent;\n",
              "      border-right-color: var(--fill-color);\n",
              "      border-bottom-color: var(--fill-color);\n",
              "    }\n",
              "    90% {\n",
              "      border-color: transparent;\n",
              "      border-bottom-color: var(--fill-color);\n",
              "    }\n",
              "  }\n",
              "</style>\n",
              "\n",
              "  <script>\n",
              "    async function quickchart(key) {\n",
              "      const quickchartButtonEl =\n",
              "        document.querySelector('#' + key + ' button');\n",
              "      quickchartButtonEl.disabled = true;  // To prevent multiple clicks.\n",
              "      quickchartButtonEl.classList.add('colab-df-spinner');\n",
              "      try {\n",
              "        const charts = await google.colab.kernel.invokeFunction(\n",
              "            'suggestCharts', [key], {});\n",
              "      } catch (error) {\n",
              "        console.error('Error during call to suggestCharts:', error);\n",
              "      }\n",
              "      quickchartButtonEl.classList.remove('colab-df-spinner');\n",
              "      quickchartButtonEl.classList.add('colab-df-quickchart-complete');\n",
              "    }\n",
              "    (() => {\n",
              "      let quickchartButtonEl =\n",
              "        document.querySelector('#df-fe6b4bda-0772-4ff4-b756-fb1617428dd1 button');\n",
              "      quickchartButtonEl.style.display =\n",
              "        google.colab.kernel.accessAllowed ? 'block' : 'none';\n",
              "    })();\n",
              "  </script>\n",
              "</div>\n",
              "    </div>\n",
              "  </div>\n"
            ],
            "application/vnd.google.colaboratory.intrinsic+json": {
              "type": "dataframe",
              "variable_name": "data",
              "summary": "{\n  \"name\": \"data\",\n  \"rows\": 10000,\n  \"fields\": [\n    {\n      \"column\": \"sigma_x sigma_x\",\n      \"properties\": {\n        \"dtype\": \"number\",\n        \"std\": 0.21461057863344332,\n        \"min\": -0.6997507097873185,\n        \"max\": 0.825882433514699,\n        \"num_unique_values\": 9449,\n        \"samples\": [\n          0.17879361309215058,\n          -0.28276110006974475,\n          -0.1142174287426943\n        ],\n        \"semantic_type\": \"\",\n        \"description\": \"\"\n      }\n    },\n    {\n      \"column\": \"sigma_x sigma_y\",\n      \"properties\": {\n        \"dtype\": \"number\",\n        \"std\": 0.21837393148009038,\n        \"min\": -0.7843909467557719,\n        \"max\": 0.7974082608751605,\n        \"num_unique_values\": 9449,\n        \"samples\": [\n          -0.2654760436887582,\n          0.08882747548045575,\n          0.10166796536003561\n        ],\n        \"semantic_type\": \"\",\n        \"description\": \"\"\n      }\n    },\n    {\n      \"column\": \"sigma_x sigma_z\",\n      \"properties\": {\n        \"dtype\": \"number\",\n        \"std\": 0.21238034462466251,\n        \"min\": -0.8607830033917663,\n        \"max\": 0.8074970593074572,\n        \"num_unique_values\": 9473,\n        \"samples\": [\n          -0.24179209117986894,\n          -0.4180023968927015,\n          0.29587829903165513\n        ],\n        \"semantic_type\": \"\",\n        \"description\": \"\"\n      }\n    },\n    {\n      \"column\": \"sigma_x I\",\n      \"properties\": {\n        \"dtype\": \"number\",\n        \"std\": 0.21573866396501115,\n        \"min\": -0.7779743461801769,\n        \"max\": 0.8558603882760436,\n        \"num_unique_values\": 9473,\n        \"samples\": [\n          0.4137454544886942,\n          0.4180023968927015,\n          0.29587829903165513\n        ],\n        \"semantic_type\": \"\",\n        \"description\": \"\"\n      }\n    },\n    {\n      \"column\": \"sigma_y sigma_x\",\n      \"properties\": {\n        \"dtype\": \"number\",\n        \"std\": 0.21553837524741007,\n        \"min\": -0.7843909467557719,\n        \"max\": 0.9316648247412498,\n        \"num_unique_values\": 9449,\n        \"samples\": [\n          0.2654760436887582,\n          0.1757922105958852,\n          -0.26429707131527813\n        ],\n        \"semantic_type\": \"\",\n        \"description\": \"\"\n      }\n    },\n    {\n      \"column\": \"sigma_y sigma_y\",\n      \"properties\": {\n        \"dtype\": \"number\",\n        \"std\": 0.21567361987830333,\n        \"min\": -0.8003504914384242,\n        \"max\": 0.8317596601023749,\n        \"num_unique_values\": 9449,\n        \"samples\": [\n          0.17879361309215058,\n          0.1415558983179871,\n          0.07247644168184077\n        ],\n        \"semantic_type\": \"\",\n        \"description\": \"\"\n      }\n    },\n    {\n      \"column\": \"sigma_y sigma_z\",\n      \"properties\": {\n        \"dtype\": \"number\",\n        \"std\": 0.2180229563251078,\n        \"min\": -0.9025658476928764,\n        \"max\": 0.7355167980629924,\n        \"num_unique_values\": 9473,\n        \"samples\": [\n          -0.2186209197080626,\n          -0.0019957396315742563,\n          0.21055100213365083\n        ],\n        \"semantic_type\": \"\",\n        \"description\": \"\"\n      }\n    },\n    {\n      \"column\": \"sigma_y I\",\n      \"properties\": {\n        \"dtype\": \"number\",\n        \"std\": 0.219432092207787,\n        \"min\": -0.9025658476928764,\n        \"max\": 0.778892649401819,\n        \"num_unique_values\": 9473,\n        \"samples\": [\n          0.16554088137592324,\n          0.0019957396315742563,\n          0.21055100213365083\n        ],\n        \"semantic_type\": \"\",\n        \"description\": \"\"\n      }\n    },\n    {\n      \"column\": \"sigma_z sigma_x\",\n      \"properties\": {\n        \"dtype\": \"number\",\n        \"std\": 0.2168762596473034,\n        \"min\": -0.8802494702283244,\n        \"max\": 0.8615523159219901,\n        \"num_unique_values\": 9468,\n        \"samples\": [\n          -0.08681826948826121,\n          -0.09141594014429576,\n          -0.19609012660453806\n        ],\n        \"semantic_type\": \"\",\n        \"description\": \"\"\n      }\n    },\n    {\n      \"column\": \"sigma_z sigma_y\",\n      \"properties\": {\n        \"dtype\": \"number\",\n        \"std\": 0.21340637126689505,\n        \"min\": -0.7442276906568892,\n        \"max\": 0.972392463354926,\n        \"num_unique_values\": 9468,\n        \"samples\": [\n          -0.06407395770439356,\n          -0.44307499442588927,\n          -0.05022013999522007\n        ],\n        \"semantic_type\": \"\",\n        \"description\": \"\"\n      }\n    },\n    {\n      \"column\": \"sigma_z sigma_z\",\n      \"properties\": {\n        \"dtype\": \"number\",\n        \"std\": 0.35371199868989656,\n        \"min\": -0.9999999999999998,\n        \"max\": 0.9945542038864905,\n        \"num_unique_values\": 9949,\n        \"samples\": [\n          -0.17315538788740917,\n          -0.17940870659640568,\n          -0.12216178334183941\n        ],\n        \"semantic_type\": \"\",\n        \"description\": \"\"\n      }\n    },\n    {\n      \"column\": \"sigma_z I\",\n      \"properties\": {\n        \"dtype\": \"number\",\n        \"std\": 0.35633121907593956,\n        \"min\": -0.9991682432058435,\n        \"max\": 1.0,\n        \"num_unique_values\": 9958,\n        \"samples\": [\n          0.27462538925890845,\n          -0.0022878861093733605,\n          0.6979882179547934\n        ],\n        \"semantic_type\": \"\",\n        \"description\": \"\"\n      }\n    },\n    {\n      \"column\": \"I sigma_x\",\n      \"properties\": {\n        \"dtype\": \"number\",\n        \"std\": 0.21727168729253923,\n        \"min\": -0.819213893353271,\n        \"max\": 0.8802494702283244,\n        \"num_unique_values\": 9468,\n        \"samples\": [\n          0.1470040659586005,\n          0.19444214166021717,\n          0.010527001113470408\n        ],\n        \"semantic_type\": \"\",\n        \"description\": \"\"\n      }\n    },\n    {\n      \"column\": \"I sigma_y\",\n      \"properties\": {\n        \"dtype\": \"number\",\n        \"std\": 0.21557963249299567,\n        \"min\": -0.8026115413660738,\n        \"max\": 0.972392463354926,\n        \"num_unique_values\": 9468,\n        \"samples\": [\n          0.047379821047771886,\n          -0.11387560400323332,\n          0.04913929274258837\n        ],\n        \"semantic_type\": \"\",\n        \"description\": \"\"\n      }\n    },\n    {\n      \"column\": \"I sigma_z\",\n      \"properties\": {\n        \"dtype\": \"number\",\n        \"std\": 0.35362615137845177,\n        \"min\": -0.9919208384566284,\n        \"max\": 0.9909210828544359,\n        \"num_unique_values\": 9943,\n        \"samples\": [\n          0.4060272538631539,\n          0.4034803635604729,\n          -0.0006471792837855483\n        ],\n        \"semantic_type\": \"\",\n        \"description\": \"\"\n      }\n    },\n    {\n      \"column\": \"determinant\",\n      \"properties\": {\n        \"dtype\": \"number\",\n        \"std\": 0.0032621747866124597,\n        \"min\": -0.048234219694823145,\n        \"max\": 0.0038634021375682968,\n        \"num_unique_values\": 9955,\n        \"samples\": [\n          0.0006301229445686183,\n          2.944967808610001e-05,\n          -0.0026630165480047018\n        ],\n        \"semantic_type\": \"\",\n        \"description\": \"\"\n      }\n    },\n    {\n      \"column\": \"is_entangled\",\n      \"properties\": {\n        \"dtype\": \"number\",\n        \"std\": 0,\n        \"min\": 0,\n        \"max\": 1,\n        \"num_unique_values\": 2,\n        \"samples\": [\n          1,\n          0\n        ],\n        \"semantic_type\": \"\",\n        \"description\": \"\"\n      }\n    }\n  ]\n}"
            }
          },
          "metadata": {},
          "execution_count": 23
        }
      ]
    },
    {
      "cell_type": "code",
      "source": [
        "feature = data.drop([\"determinant\", \"is_entangled\"], axis = 1)\n",
        "label = data[\"is_entangled\"]"
      ],
      "metadata": {
        "id": "2wFHYt0Pr5ve"
      },
      "execution_count": 22,
      "outputs": []
    },
    {
      "cell_type": "markdown",
      "source": [
        "*Transform Data*"
      ],
      "metadata": {
        "id": "Q5m-cQeprKk3"
      }
    },
    {
      "cell_type": "code",
      "source": [
        "poly_transformer = PolynomialFeatures(degree = 4, include_bias = False)\n",
        "transformed_feature = poly_transformer.fit_transform(feature)"
      ],
      "metadata": {
        "id": "okE7pHu0h1cd"
      },
      "execution_count": 38,
      "outputs": []
    },
    {
      "cell_type": "markdown",
      "source": [
        "*Split data*"
      ],
      "metadata": {
        "id": "hw043VRLrc4n"
      }
    },
    {
      "cell_type": "code",
      "source": [
        "feature_train, feature_test, label_train, label_test = train_test_split(transformed_feature, label, test_size = 0.3)"
      ],
      "metadata": {
        "id": "YdBpA6LIrif-"
      },
      "execution_count": 39,
      "outputs": []
    },
    {
      "cell_type": "markdown",
      "source": [
        "# Apply Linear Model"
      ],
      "metadata": {
        "id": "0Prh9eOhl5-I"
      }
    },
    {
      "cell_type": "code",
      "source": [
        "linear_reg = LinearRegression().fit(feature_train, label_train)"
      ],
      "metadata": {
        "id": "keQmLZ4yhl6j"
      },
      "execution_count": 40,
      "outputs": []
    },
    {
      "cell_type": "code",
      "source": [
        "y_predicted = linear_reg.predict(feature_test)"
      ],
      "metadata": {
        "id": "jpgblrXutQzt"
      },
      "execution_count": 41,
      "outputs": []
    },
    {
      "cell_type": "code",
      "source": [
        "true_label_count = np.sum(np.logical_not(np.logical_xor(y_predicted, label_test)))\n",
        "print(\"Accuracy Test: \", true_label_count/len(label_test) * 100, \"%\")"
      ],
      "metadata": {
        "colab": {
          "base_uri": "https://localhost:8080/"
        },
        "id": "Zwws-FvAt1Ks",
        "outputId": "26f1d4ad-e809-46e1-95a9-6b98e15770bf"
      },
      "execution_count": 43,
      "outputs": [
        {
          "output_type": "stream",
          "name": "stdout",
          "text": [
            "Accuracy Test:  68.36666666666666 %\n"
          ]
        }
      ]
    },
    {
      "cell_type": "code",
      "source": [],
      "metadata": {
        "id": "AKOY4119uJ3H"
      },
      "execution_count": null,
      "outputs": []
    }
  ]
}